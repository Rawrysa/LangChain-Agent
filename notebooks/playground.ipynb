{
 "cells": [
  {
   "cell_type": "code",
   "execution_count": 47,
   "id": "1d30e991",
   "metadata": {},
   "outputs": [],
   "source": [
    "import os\n",
    "from langchain.vectorstores import FAISS\n",
    "from langchain.embeddings import HuggingFaceBgeEmbeddings\n",
    "from langchain.text_splitter import RecursiveCharacterTextSplitter\n",
    "from langchain.document_loaders import TextLoader\n",
    "\n",
    "def get_vector_db_retriever():\n",
    "    persist_path = os.path.join('../data', \"faiss_index\")\n",
    "    embedding_model = HuggingFaceBgeEmbeddings(model_name=\"sentence-transformers/all-MiniLM-L6-v2\")\n",
    "\n",
    "    # If FAISS vector store exists, then load it\n",
    "    if os.path.exists(os.path.join(persist_path, \"index.faiss\")):\n",
    "        vectorstore = FAISS.load_local(persist_path, embedding_model, allow_dangerous_deserialization=True)\n",
    "        return vectorstore.as_retriever()\n",
    "    \n",
    "    doc_loader = TextLoader(\"../docs/profile.txt\")\n",
    "    documents = doc_loader.load()\n",
    "\n",
    "    if not documents:\n",
    "        raise ValueError(\"No documents found in the specified path.\")\n",
    "    \n",
    "    text_splitter = RecursiveCharacterTextSplitter(chunk_size=500, chunk_overlap=100)\n",
    "    texts = text_splitter.split_documents(documents)\n",
    "\n",
    "    vectorstore = FAISS.from_documents(texts, embedding_model)\n",
    "    vectorstore.save_local(persist_path)\n",
    "\n",
    "    return vectorstore.as_retriever()"
   ]
  },
  {
   "cell_type": "code",
   "execution_count": 2,
   "id": "7afe3df7",
   "metadata": {},
   "outputs": [],
   "source": [
    "from langgraph.graph import MessagesState"
   ]
  },
  {
   "cell_type": "code",
   "execution_count": 3,
   "id": "adf24a5f",
   "metadata": {},
   "outputs": [],
   "source": [
    "class State(MessagesState):\n",
    "    summary: str"
   ]
  },
  {
   "cell_type": "code",
   "execution_count": 48,
   "id": "a1b475e0",
   "metadata": {},
   "outputs": [],
   "source": [
    "from utils import add, subtract, multiply, divide\n",
    "from langchain_mistralai import ChatMistralAI\n",
    "\n",
    "def get_info(query):\n",
    "    \"\"\" Retrieve information about Galaletsang based on the query using the vector database. \"\"\"\n",
    "    return get_vector_db_retriever().invoke(query)\n",
    "\n",
    "tools = [add, subtract, multiply, divide, get_info]\n",
    "\n",
    "model = ChatMistralAI(model_name=\"mistral-large-latest\")\n",
    "model = model.bind_tools(tools)"
   ]
  },
  {
   "cell_type": "code",
   "execution_count": 50,
   "id": "2e6ba209",
   "metadata": {},
   "outputs": [],
   "source": [
    "from typing import Literal\n",
    "from dotenv import load_dotenv\n",
    "from langchain_core.messages import SystemMessage, HumanMessage, RemoveMessage\n",
    "from langgraph.graph import START, END, StateGraph\n",
    "from langgraph.prebuilt import ToolNode, tools_condition\n",
    "from typing import Literal\n",
    "\n",
    "load_dotenv()\n",
    "\n",
    "def agent(state):\n",
    "\n",
    "    system_message = SystemMessage(\n",
    "        content=f\"\"\"\n",
    "        You are a helpful assistant trained to answer recruiter and hiring-related questions about Galaletsang Modimola.\n",
    "        Additionally you can perform basic arithmetic operations and retrieve information about Galaletsang from a vector database.\n",
    "        \"\"\"\n",
    "    )\n",
    "\n",
    "    # Get summary if it exists\n",
    "    summary = state.get(\"summary\", \"\")\n",
    "\n",
    "    # If there is summary, then we add it\n",
    "    if summary:\n",
    "\n",
    "        # Add summary to system message\n",
    "        system_message = f\"Summary of conversation earlier: {summary}\"\n",
    "\n",
    "        # Append summary to any newer messages\n",
    "        messages = [system_message] + [SystemMessage(content=system_message)] + state[\"messages\"]\n",
    "\n",
    "    else:\n",
    "        messages = [system_message] + state[\"messages\"]\n",
    "\n",
    "    return {\"messages\": [model.invoke(messages)]}\n",
    "\n",
    "def summarize_conversation(state: State):\n",
    "    summary = state.get(\"summary\", \"\")\n",
    "\n",
    "    if summary:\n",
    "\n",
    "        summary_message = (\n",
    "            f\"This is summary of the conversation to date: {summary}\\n\\n\"\n",
    "            \"Extend the summary by taking into account the new messages above:\"\n",
    "    )\n",
    "\n",
    "    else:\n",
    "        summary_message = \"Create a summary of the conversation above:\"\n",
    "\n",
    "    messages = state[\"messages\"] + [HumanMessage(content=summary_message)]\n",
    "    response = model.invoke(messages)\n",
    "    \n",
    "    delete_messages = [RemoveMessage(id=m.id) for m in state[\"messages\"][:-2]]\n",
    "    return {\"summary\": response.content, \"messages\": delete_messages}\n",
    "\n",
    "def should_continue(state: State) -> Literal[\"summarize_conversation\", \"__end__\"]:\n",
    "\n",
    "    \"\"\"Return the next node to execute.\"\"\"\n",
    "\n",
    "    messages = state[\"messages\"]\n",
    "\n",
    "    # If there are more than six messages, then we summarize the conversation\n",
    "    if len(messages) > 6:\n",
    "        return \"summarize_conversation\"\n",
    "\n",
    "    # Otherwise we can just end\n",
    "    return END\n",
    "\n",
    "\n",
    "def get_graph():\n",
    "    \"\"\"\n",
    "    Create the state graph for the agent.\n",
    "    \"\"\"\n",
    "    builder = StateGraph(State)\n",
    "\n",
    "    builder.add_node(\"assistant\", agent)\n",
    "    builder.add_node(\"tools\", ToolNode(tools))\n",
    "    builder.add_node(\"summarize_conversation\", summarize_conversation)\n",
    "    builder.add_edge(START, \"assistant\")\n",
    "    builder.add_conditional_edges(\"assistant\", tools_condition)\n",
    "    builder.add_edge(\"tools\", \"assistant\")\n",
    "    builder.add_conditional_edges(\"assistant\", should_continue)\n",
    "\n",
    "    graph = builder.compile()\n",
    "\n",
    "    return graph\n"
   ]
  },
  {
   "cell_type": "code",
   "execution_count": 51,
   "id": "0c841305",
   "metadata": {},
   "outputs": [],
   "source": [
    "graph = get_graph()"
   ]
  },
  {
   "cell_type": "code",
   "execution_count": 52,
   "id": "21e3a625",
   "metadata": {},
   "outputs": [
    {
     "data": {
      "image/png": "[encoded data removed]",
      "text/plain": [
       "<IPython.core.display.Image object>"
      ]
     },
     "metadata": {},
     "output_type": "display_data"
    }
   ],
   "source": [
    "from IPython.display import Image, display\n",
    "\n",
    "display(Image(graph.get_graph(xray=True).draw_mermaid_png()))"
   ]
  },
  {
   "cell_type": "code",
   "execution_count": 59,
   "id": "b879a824",
   "metadata": {},
   "outputs": [
    {
     "data": {
      "text/plain": [
       "{'messages': [HumanMessage(content='Can I get his cv', additional_kwargs={}, response_metadata={}, id='75918282-7417-4609-8fdb-619492675dfc'),\n",
       "  AIMessage(content='', additional_kwargs={'tool_calls': [{'id': '02NhW8QsK', 'function': {'name': 'get_info', 'arguments': '{\"query\": \"Can I get his cv\"}'}, 'index': 0}]}, response_metadata={'token_usage': {'prompt_tokens': 356, 'total_tokens': 382, 'completion_tokens': 26}, 'model_name': 'mistral-large-latest', 'model': 'mistral-large-latest', 'finish_reason': 'tool_calls'}, id='run--06f03def-b7f6-480e-9e4d-83fa36329146-0', tool_calls=[{'name': 'get_info', 'args': {'query': 'Can I get his cv'}, 'id': '02NhW8QsK', 'type': 'tool_call'}], usage_metadata={'input_tokens': 356, 'output_tokens': 26, 'total_tokens': 382}),\n",
       "  ToolMessage(content='[Document(id=\\'87a5547a-0746-44b4-9fd5-77a784964c22\\', metadata={\\'source\\': \\'../docs/profile.txt\\'}, page_content=\"If the user asks for a CV or resume, respond politely and let them know they can they use the button provided. The button will be provided through the front end so don\\'t insert a link.\\\\n\\\\nExamples:\\\\nUser: Can I get a copy of Galaletsang\\'s CV?\\\\nBot: Sure! Here\\'s Galaletsang\\'s CV. If you have any other questions or need further information, feel free to ask!\\\\n\\\\nUser: I\\'d like to see his resume.\\\\nBot: Of course! You can download his CV below.\"), Document(id=\\'43ffd3aa-b7c4-49e0-9091-86f2dca1d6ad\\', metadata={\\'source\\': \\'../docs/profile.txt\\'}, page_content=\"Examples of Questions You Might Be Asked:\\\\n\\\\nQ: What is Galaletsang\\'s current role?\\\\nA: He is currently a Graduate Data Engineer at Boxfusion.\\\\n\\\\nQ: Who is Galaletsang Modimola?\\\\nA: Galaletsang Modimola is a 24-year-old IT professional based in South Africa. He currently works as a Graduate Data Engineer at Boxfusion, with a background in business analysis, software development, and lecturing.\"), Document(id=\\'8e4c7dbe-7513-4665-b1bc-576bd08b7247\\', metadata={\\'source\\': \\'../docs/profile.txt\\'}, page_content=\\'Q2: What is his educational background?\\\\nA: Galaletsang holds a degree in Information Technology achieved with a grade of Magna Cum Laude from Belgium Campus. Along with several other certifications.\\\\n\\\\nQ: What is his technical focus now?\\\\nA: He is focusing on becoming highly skilled in data engineering, with emphasis on backend, databases, and analytics.\\'), Document(id=\\'e3769b76-a646-44e0-908a-f06c86c2d7f1\\', metadata={\\'source\\': \\'../docs/profile.txt\\'}, page_content=\"Educational Background:  \\\\n- Bachelor\\'s Degree in Information Technology from Belgium Campus (Magna Cum Laude)\\\\n- Pandas Certification\\\\n- Advanced SQL Certification\\\\n- Python Certification\\\\n- C# Certification\")]', name='get_info', id='96422427-d2e5-41aa-88c0-e4b2faf592fb', tool_call_id='02NhW8QsK'),\n",
       "  AIMessage(content=\"Sure! Here's Galaletsang's CV. If you have any other questions or need further information, feel free to ask!\", additional_kwargs={}, response_metadata={'token_usage': {'prompt_tokens': 1008, 'total_tokens': 1038, 'completion_tokens': 30}, 'model_name': 'mistral-large-latest', 'model': 'mistral-large-latest', 'finish_reason': 'stop'}, id='run--aea533dc-544c-49af-baa2-c2f89c1d0787-0', usage_metadata={'input_tokens': 1008, 'output_tokens': 30, 'total_tokens': 1038})]}"
      ]
     },
     "execution_count": 59,
     "metadata": {},
     "output_type": "execute_result"
    }
   ],
   "source": [
    "graph.invoke({'messages': [HumanMessage(content=\"Can I get his cv\")]})"
   ]
  }
 ],
 "metadata": {
  "kernelspec": {
   "display_name": "chainenv",
   "language": "python",
   "name": "python3"
  },
  "language_info": {
   "codemirror_mode": {
    "name": "ipython",
    "version": 3
   },
   "file_extension": ".py",
   "mimetype": "text/x-python",
   "name": "python",
   "nbconvert_exporter": "python",
   "pygments_lexer": "ipython3",
   "version": "3.11.9"
  }
 },
 "nbformat": 4,
 "nbformat_minor": 5
}
